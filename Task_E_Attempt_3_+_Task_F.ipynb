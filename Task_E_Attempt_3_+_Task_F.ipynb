{
  "nbformat": 4,
  "nbformat_minor": 0,
  "metadata": {
    "colab": {
      "provenance": []
    },
    "kernelspec": {
      "name": "python3",
      "display_name": "Python 3"
    },
    "language_info": {
      "name": "python"
    }
  },
  "cells": [
    {
      "cell_type": "code",
      "source": [
        "import pandas as pd\n",
        "from sklearn.model_selection import train_test_split, GridSearchCV\n",
        "from sklearn.feature_extraction.text import TfidfVectorizer\n",
        "from sklearn.svm import LinearSVC\n",
        "from sklearn.pipeline import Pipeline\n",
        "from sklearn.metrics import accuracy_score, classification_report, confusion_matrix, ConfusionMatrixDisplay\n",
        "import matplotlib.pyplot as plt\n",
        "import numpy as np\n",
        "import nltk\n",
        "nltk.download('stopwords')"
      ],
      "metadata": {
        "colab": {
          "base_uri": "https://localhost:8080/"
        },
        "id": "Gzg_ErXORaTf",
        "outputId": "a39e9e48-da02-47de-ced6-32524e7b1447"
      },
      "execution_count": 61,
      "outputs": [
        {
          "output_type": "stream",
          "name": "stderr",
          "text": [
            "[nltk_data] Downloading package stopwords to /root/nltk_data...\n",
            "[nltk_data]   Unzipping corpora/stopwords.zip.\n"
          ]
        },
        {
          "output_type": "execute_result",
          "data": {
            "text/plain": [
              "True"
            ]
          },
          "metadata": {},
          "execution_count": 61
        }
      ]
    },
    {
      "cell_type": "code",
      "source": [
        "df1 = pd.read_csv('review_train.csv')\n",
        "df2 = pd.read_csv('review_test.csv')"
      ],
      "metadata": {
        "id": "z2WgnbIcRV3r"
      },
      "execution_count": 66,
      "outputs": []
    },
    {
      "cell_type": "code",
      "execution_count": 59,
      "metadata": {
        "id": "0Jy1aO8wROUS"
      },
      "outputs": [],
      "source": [
        "from nltk.corpus import stopwords\n",
        "from nltk.stem import PorterStemmer\n",
        "from sklearn.model_selection import train_test_split\n",
        "from sklearn.metrics import accuracy_score\n",
        "from sklearn.model_selection import GridSearchCV\n",
        "from sklearn.metrics import classification_report\n",
        "\n",
        "def preprocess_text(text):\n",
        "  text = text.lower()\n",
        "  text = \"\".join([char for char in text if char.isalnum() or \" \" in char])\n",
        "  stop_words = stopwords.words('english')\n",
        "  text = [word for word in text.split() if word not in stop_words]\n",
        "  stemmer = PorterStemmer()\n",
        "  text = [stemmer.stem(word) for word in text]\n",
        "  return \" \".join(text)\n",
        "\n",
        "df1['Review'] = df1['Review'].apply(preprocess_text)"
      ]
    },
    {
      "cell_type": "code",
      "source": [
        "X_train, X_test, y_train, y_test = train_test_split(df1['Review'],\n",
        "                                                    df1['Rating'],\n",
        "                                                    test_size=0.1,\n",
        "                                                    random_state=3,\n",
        "                                                    stratify=df1['Rating']\n",
        "                                                   )\n",
        "\n",
        "\n",
        "param_grid = {'tfidf__max_features': [10000,20000, 40000],\n",
        "              'clf__C': [0.075, 0.1, 1],\n",
        "              'clf__loss': ('hinge', 'squared_hinge')}\n",
        "\n",
        "pipe = Pipeline([('tfidf', TfidfVectorizer()), ('clf', LinearSVC(random_state=0))])\n",
        "clf = GridSearchCV(pipe, param_grid, cv=5)\n",
        "\n",
        "\n",
        "clf.fit(X_train, y_train)\n",
        "\n",
        "y_pred = clf.predict(X_test)\n",
        "\n",
        "print(\"Best Hyperparameters:\", clf.best_params_)\n",
        "accuracy = accuracy_score(y_test, y_pred)\n",
        "print(f\"Accuracy: {accuracy * 100:.2f}%\")\n",
        "print(classification_report(y_test, y_pred))"
      ],
      "metadata": {
        "colab": {
          "base_uri": "https://localhost:8080/"
        },
        "id": "7VC2j-hpkhkg",
        "outputId": "f7854e73-9eb8-4bb4-c622-8e33de82cda2"
      },
      "execution_count": 67,
      "outputs": [
        {
          "output_type": "stream",
          "name": "stdout",
          "text": [
            "Best Hyperparameters: {'clf__C': 0.075, 'clf__loss': 'squared_hinge', 'tfidf__max_features': 20000}\n",
            "Accuracy: 56.25%\n",
            "              precision    recall  f1-score   support\n",
            "\n",
            "      1 star       0.59      0.67      0.63       203\n",
            "      2 star       0.49      0.46      0.48       218\n",
            "      3 star       0.53      0.44      0.48       195\n",
            "      4 star       0.54      0.50      0.52       195\n",
            "      5 star       0.65      0.74      0.69       197\n",
            "\n",
            "    accuracy                           0.56      1008\n",
            "   macro avg       0.56      0.56      0.56      1008\n",
            "weighted avg       0.56      0.56      0.56      1008\n",
            "\n"
          ]
        }
      ]
    },
    {
      "cell_type": "markdown",
      "source": [
        "Confusion Matrix for LinearSVC"
      ],
      "metadata": {
        "id": "r6677hgPlZan"
      }
    },
    {
      "cell_type": "code",
      "source": [
        "cm = confusion_matrix(y_test, y_pred, labels=clf.classes_)\n",
        "disp = ConfusionMatrixDisplay(confusion_matrix=cm, display_labels=clf.classes_)\n",
        "disp.plot(cmap=plt.cm.Blues)\n",
        "plt.show()"
      ],
      "metadata": {
        "colab": {
          "base_uri": "https://localhost:8080/",
          "height": 449
        },
        "id": "IFoKkMQabfmM",
        "outputId": "3597ae26-9c67-4959-ea41-512504977e0d"
      },
      "execution_count": 68,
      "outputs": [
        {
          "output_type": "display_data",
          "data": {
            "text/plain": [
              "<Figure size 640x480 with 2 Axes>"
            ],
            "image/png": "[encoded data removed]"
          },
          "metadata": {}
        }
      ]
    },
    {
      "cell_type": "markdown",
      "source": [
        "TASK F"
      ],
      "metadata": {
        "id": "QXaNo1Y1cdUH"
      }
    },
    {
      "cell_type": "markdown",
      "source": [
        "Predict Ratings on the test file"
      ],
      "metadata": {
        "id": "4tA79neQlrUC"
      }
    },
    {
      "cell_type": "code",
      "source": [
        "final_df = df2[['Review', 'Review_id']].copy()\n",
        "final_df['Ratings'] = clf.predict(final_df['Review'])"
      ],
      "metadata": {
        "id": "PCGXWhFVceVc"
      },
      "execution_count": 74,
      "outputs": []
    },
    {
      "cell_type": "markdown",
      "source": [
        "Drop Review Column and Save Final predicted Output as CSV"
      ],
      "metadata": {
        "id": "vWgYsO1nlkEu"
      }
    },
    {
      "cell_type": "code",
      "source": [
        "final_df.drop(columns=['Review'], inplace=True)\n",
        "final_df.to_csv('Group17_QBUS6850_2024S1.csv', index=False)"
      ],
      "metadata": {
        "id": "SjyI83QJhOmf"
      },
      "execution_count": 78,
      "outputs": []
    },
    {
      "cell_type": "code",
      "source": [],
      "metadata": {
        "id": "O_-ZJJdeoC1R"
      },
      "execution_count": null,
      "outputs": []
    }
  ]
}